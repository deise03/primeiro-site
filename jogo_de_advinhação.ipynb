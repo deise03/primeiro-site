{
  "nbformat": 4,
  "nbformat_minor": 0,
  "metadata": {
    "colab": {
      "provenance": [],
      "authorship_tag": "ABX9TyM/bXwyDN6X/f22W3SWR/Ky",
      "include_colab_link": true
    },
    "kernelspec": {
      "name": "python3",
      "display_name": "Python 3"
    },
    "language_info": {
      "name": "python"
    }
  },
  "cells": [
    {
      "cell_type": "markdown",
      "metadata": {
        "id": "view-in-github",
        "colab_type": "text"
      },
      "source": [
        "<a href=\"https://colab.research.google.com/github/deise03/primeiro-site/blob/main/jogo_de_advinha%C3%A7%C3%A3o.ipynb\" target=\"_parent\"><img src=\"https://colab.research.google.com/assets/colab-badge.svg\" alt=\"Open In Colab\"/></a>"
      ]
    },
    {
      "cell_type": "code",
      "source": [
        "import random\n",
        "numero = random.randint(1, 100)\n",
        "tentativas = 0\n",
        "\n",
        "print(\"Bem-vindo ao jogo da adivinhação!\")\n",
        "print(\"Eu escolhi um número entre 1 e 100. Você tem 10 tentativas para adivinhar.\")\n",
        "\n",
        "\n",
        "while tentativas < 10:\n",
        "    palpite = int(input(\"Digite o seu palpite: \"))\n",
        "    tentativas += 1\n",
        "\n",
        "    if palpite == numero:\n",
        "        print(f\"Parabéns! Você acertou o número em {tentativas} tentativas.\")\n",
        "        break\n",
        "    elif palpite < numero:\n",
        "        print(\"O número é maior. Tente novamente.\")\n",
        "    else:\n",
        "      print(\"O número é menor. Tente novamente.\")\n",
        "else:\n",
        "        print(f\"Você perdeu! O número era {numero}.\")\n",
        "  "
      ],
      "metadata": {
        "colab": {
          "base_uri": "https://localhost:8080/"
        },
        "id": "E31LP1lkAbP6",
        "outputId": "eaffee56-e241-4318-e016-65554716d8f1"
      },
      "execution_count": 25,
      "outputs": [
        {
          "output_type": "stream",
          "name": "stdout",
          "text": [
            "Bem-vindo ao jogo da adivinhação!\n",
            "Eu escolhi um número entre 1 e 100. Você tem 10 tentativas para adivinhar.\n",
            "Digite o seu palpite: 10\n",
            "O número é maior. Tente novamente.\n",
            "Digite o seu palpite: 20\n",
            "O número é maior. Tente novamente.\n",
            "Digite o seu palpite: 50\n",
            "O número é maior. Tente novamente.\n",
            "Digite o seu palpite: 90\n",
            "O número é maior. Tente novamente.\n",
            "Digite o seu palpite: 99\n",
            "O número é menor. Tente novamente.\n",
            "Digite o seu palpite: 98\n",
            "Parabéns! Você acertou o número em 6 tentativas.\n"
          ]
        }
      ]
    }
  ]
}